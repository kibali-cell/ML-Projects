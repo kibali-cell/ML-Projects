{
  "nbformat": 4,
  "nbformat_minor": 0,
  "metadata": {
    "colab": {
      "provenance": [],
      "authorship_tag": "ABX9TyPqQr5WV922bHhgPz/+Tbgl",
      "include_colab_link": true
    },
    "kernelspec": {
      "name": "python3",
      "display_name": "Python 3"
    },
    "language_info": {
      "name": "python"
    }
  },
  "cells": [
    {
      "cell_type": "markdown",
      "metadata": {
        "id": "view-in-github",
        "colab_type": "text"
      },
      "source": [
        "<a href=\"https://colab.research.google.com/github/kibali-cell/ML-Projects/blob/main/ImprovedSSD.ipynb\" target=\"_parent\"><img src=\"https://colab.research.google.com/assets/colab-badge.svg\" alt=\"Open In Colab\"/></a>"
      ]
    },
    {
      "cell_type": "code",
      "execution_count": null,
      "metadata": {
        "id": "pOV_hVkBqtch"
      },
      "outputs": [],
      "source": []
    },
    {
      "cell_type": "code",
      "source": [
        "import numpy as np\n",
        "import pandas as pd\n",
        "import json\n",
        "import csv\n",
        "from sklearn.model_selection import train_test_split\n",
        "from sklearn.feature_extraction.text import TfidfVectorizer\n",
        "from sklearn.linear_model import LogisticRegression\n",
        "from sklearn.metrics import accuracy_score\n",
        "\n",
        "# Your training code (simplified)\n",
        "raw_mail_data = pd.read_csv('combined_set.csv')\n",
        "mail_data = raw_mail_data.where((pd.notnull(raw_mail_data)), '')\n",
        "mail_data.loc[mail_data['label'] == 'spam', 'label'] = 0\n",
        "mail_data.loc[mail_data['label'] == 'ham', 'label'] = 1\n",
        "X = mail_data['Message']\n",
        "Y = mail_data['label'].astype(int)\n",
        "X_train, X_test, Y_train, Y_test = train_test_split(X, Y, test_size=0.2, random_state=3)\n",
        "with open('swahili_stopwords.csv', 'r', encoding='utf-8') as f:\n",
        "    swahili_stop_words = [row[0] for row in csv.reader(f)]\n",
        "feature_extraction = TfidfVectorizer(min_df=1, stop_words=swahili_stop_words, lowercase=True)\n",
        "x_train_features = feature_extraction.fit_transform(X_train)\n",
        "model = LogisticRegression()\n",
        "model.fit(x_train_features, Y_train)\n",
        "\n",
        "# Extract parameters\n",
        "vocabulary = feature_extraction.vocabulary_  # e.g., {\"karibu\": 0, \"pesa\": 1, ...}\n",
        "idf = feature_extraction.idf_.tolist()\n",
        "coefficients = model.coef_[0].tolist()\n",
        "intercept = float(model.intercept_[0])\n",
        "\n",
        "# Save to JSON\n",
        "with open('vocabulary.json', 'w') as f:\n",
        "    json.dump(vocabulary, f)\n",
        "with open('idf.json', 'w') as f:\n",
        "    json.dump(idf, f)\n",
        "with open('coefficients.json', 'w') as f:\n",
        "    json.dump(coefficients, f)\n",
        "with open('intercept.json', 'w') as f:\n",
        "    json.dump({'intercept': intercept}, f)"
      ],
      "metadata": {
        "colab": {
          "base_uri": "https://localhost:8080/"
        },
        "id": "rcuFKIzsrDts",
        "outputId": "df7df9a6-d332-4be6-e40d-606fe09c5a28"
      },
      "execution_count": 5,
      "outputs": [
        {
          "output_type": "stream",
          "name": "stderr",
          "text": [
            "/usr/local/lib/python3.11/dist-packages/sklearn/feature_extraction/text.py:402: UserWarning: Your stop_words may be inconsistent with your preprocessing. Tokenizing the stop words generated tokens ['ng', 'stopwords'] not in stop_words.\n",
            "  warnings.warn(\n"
          ]
        }
      ]
    },
    {
      "cell_type": "code",
      "source": [],
      "metadata": {
        "id": "Ezay_JHvrFFt"
      },
      "execution_count": null,
      "outputs": []
    }
  ]
}